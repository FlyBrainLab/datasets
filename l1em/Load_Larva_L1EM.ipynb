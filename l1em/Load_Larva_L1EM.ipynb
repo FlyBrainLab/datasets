{
 "cells": [
  {
   "cell_type": "markdown",
   "metadata": {},
   "source": [
    "# Loading Larva L1EM CNS Data"
   ]
  },
  {
   "cell_type": "markdown",
   "metadata": {},
   "source": [
    "In this notebook, we detail the process with which the connectomics data from the Larva L1EM Central Nervous System is loaded into a running NeuroArch instance.\n",
    "\n",
    "The raw data is taken from the publically available CATMAID dataset hosted on the [Virtual Fly Brain](https://l1em.catmaid.virtualflybrain.org/).\n",
    "\n",
    "The folder structure is as follows:\n",
    "```\n",
    ".\n",
    "├── Load_Larva_L1EM.ipynb             # this file\n",
    "├── Load_Larva_L1EM.py                # executable script\n",
    "├── connectors_published.csv          # synapse information\n",
    "├── meshes                            # folder of all mesh files\n",
    "├── neurons_published_2020_12_04.csv  # neuron information\n",
    "└── swc                               # folder of all SWC neuron skeleton files\n",
    "```\n",
    "\n",
    "Please refer to the [README](https://github.com/FlyBrainLab/datasets/tree/main/l1em/README.md) for downloading the swc files required in this code"
   ]
  },
  {
   "cell_type": "code",
   "execution_count": 1,
   "metadata": {},
   "outputs": [],
   "source": [
    "import neuroarch.na as na\n",
    "import pandas as pd\n",
    "from tqdm import tqdm\n",
    "import numpy as np"
   ]
  },
  {
   "cell_type": "markdown",
   "metadata": {},
   "source": [
    "### Define regions\n",
    "The regions defined here are the high-level organizing nodes in the NeuroArch database, underwhich neurons/synapses are defined. They are mostly neuropils with the exception of CNS which is the entire mesh.\n",
    "\n",
    "Each region is an entry in the dictionary of the format:\n",
    "```python\n",
    "entry_name: {\n",
    "    'System': system_name_that_entry_is_included_in,\n",
    "    'Neuropil': name_of_the_neuropil_of_the_system,\n",
    "    'synomyms': list_of_synonyms_of_the_entry,\n",
    "    'morphology': path_to_mesh_file\n",
    "}\n",
    "```"
   ]
  },
  {
   "cell_type": "code",
   "execution_count": 2,
   "metadata": {},
   "outputs": [],
   "source": [
    "cns = {\n",
    "    'System': 'CNS', \n",
    "    'morphology': './meshes/CNS_um.json'\n",
    "}\n",
    "neuropils = {\n",
    "    'AL':{\n",
    "        'System':'CNS',\n",
    "        'Neuropil':'AL',\n",
    "        'synonyms':['right antennal lobe','antennal lobe','al_r','al','right al'],\n",
    "        'morphology': './meshes/AL_um.json'\n",
    "    },\n",
    "    'al':{\n",
    "        'System':'CNS',\n",
    "        'Neuropil':'al',\n",
    "        'synonyms':['left antennal lobe','antennal lobe','al_l','al','left al'],\n",
    "        'morphology': './meshes/AL_um.json'\n",
    "    },\n",
    "    'MB':{\n",
    "        'System':'CNS',\n",
    "        'Neuropil':'MB',\n",
    "        'synonyms':['right mushroom body','mushroom body','right mb','mb_r','mb'],\n",
    "        'morphology': './meshes/MB_um.json'\n",
    "    },\n",
    "    'mb':{\n",
    "        'System':'CNS',\n",
    "        'Neuropil':'mb',\n",
    "        'synonyms':['left mushroom body','mushroom body','left mb','mb_l','mb'],\n",
    "        'morphology': './meshes/MB_um.json'\n",
    "    },\n",
    "    'LON':{\n",
    "        'System':'CNS',\n",
    "        'Neuropil':'LON',\n",
    "        'synonyms':['right larva optic neuropil','optic neuropil','right lon','lon_r','lon']\n",
    "    },\n",
    "    'lon':{\n",
    "        'System':'CNS',\n",
    "        'Neuropil':'lon',\n",
    "        'synonyms':['left larva optic neuropil','optic neuropil','left lon','lon_f','lon']\n",
    "    },\n",
    "    'LH':{\n",
    "        'System':'CNS',\n",
    "        'Neuropil':'LH',\n",
    "        'synonyms':['right lateral horn','lateral horn','right lh','lh']\n",
    "    },\n",
    "    'lh':{\n",
    "        'System':'CNS',\n",
    "        'Neuropil':'lh',\n",
    "        'synonyms':['left lateral horn','lateral horn','left lh','lh']\n",
    "    },\n",
    "    'unknown':{\n",
    "        'System':'CNS',\n",
    "        'Neuropil':'unknown',\n",
    "        'synonyms': ['left unknown', 'left unspecified', 'unspecified', 'na', 'unknown']\n",
    "    },\n",
    "    'UNKNOWN':{\n",
    "        'System':'CNS',\n",
    "        'Neuropil':'UNKNOWN',\n",
    "        'synonyms': ['right unknown', 'right unspecified', 'unspecified', 'na', 'unknown']\n",
    "    },\n",
    "    'vnc':{\n",
    "        'System':'CNS',\n",
    "        'Neuropil':'vnc',\n",
    "        'synonyms': ['left vnc', 'left ventral nerve cord', 'left ventral nerve', 'ventral nerve cord', 'vnc']\n",
    "    },\n",
    "    'VNC':{\n",
    "        'System':'CNS',\n",
    "        'Neuropil':'VNC',\n",
    "        'synonyms': ['right vnc', 'right ventral nerve cord', 'left ventral nerve', 'ventral nerve cord', 'vnc']\n",
    "    },\n",
    "    'sez':{\n",
    "        'System':'CNS',\n",
    "        'Neuropil':'sez',\n",
    "        'synonyms': ['left sez', 'left subesophageal zone', 'left subesophageal', 'subesophageal', 'sez']\n",
    "    },\n",
    "    'SEZ':{\n",
    "        'System':'CNS',\n",
    "        'Neuropil':'SEZ',\n",
    "        'synonyms': ['right sez', 'right subesophageal zone', 'right subesophageal', 'subesophageal', 'sez']\n",
    "    },\n",
    "}\n"
   ]
  },
  {
   "cell_type": "code",
   "execution_count": 3,
   "metadata": {},
   "outputs": [],
   "source": [
    "neuron_synonyms = {\n",
    "    'PR': ['PR', 'photoreceptor'],\n",
    "    'PN': ['PN', 'Projection Neuron'],\n",
    "    'uPN': ['upn', 'Uni PN', 'uni-PN', 'uniglomeruluar projection neuron', 'uniglomerular pn'],\n",
    "    'mPN': ['mpn', 'Multi PN', 'multi-PN', 'multi Projection Neuron', 'Multi Projection Neuron', 'Multiglomeruli PN', 'Multiglomeruli Projection Neuron'],\n",
    "    'OSN': ['OSN', 'ORN', 'Olfactory Receptor Neuron', 'Olfactory Sensory Neuron'],\n",
    "    'KC': ['kc', 'kenyon cell'],\n",
    "    'MBON': ['mbon', 'mushroom body output neuron', 'Output Neuron'],\n",
    "    'MBIN': ['mbin', 'mushroom body input neuron', 'mbin'],\n",
    "    'DAN': ['dan', 'Dopaminergic Neuron'],\n",
    "    'OAN': ['oan', 'Octopaminergic Neuron'],\n",
    "    'LHN': ['lhn', 'lateral horn neuron'],\n",
    "    'LHON': ['lhon', 'lateral horn output neuron'],\n",
    "    'CN': ['cn', 'convergence neuron'],\n",
    "    'MB2ON': ['mb2on'],\n",
    "    'VPN': ['vpn', 'visual projection neuron'],\n",
    "    'LN': ['ln', 'antennal lobe local neuron'],\n",
    "    'Motor': ['motor', 'motor neuron'],\n",
    "    'PMN': ['pmn', 'premotor neuron', 'pre-motor neuron'],\n",
    "    'APL': ['apl', 'anterior posterior lateral'],\n",
    "    'FFN': ['ffn', 'feedforward neuron'],\n",
    "    'FBN': ['fbn', 'feedback neuron'],\n",
    "    'FAN': ['fan', 'feedacross neuron']\n",
    "}"
   ]
  },
  {
   "cell_type": "markdown",
   "metadata": {},
   "source": [
    "### Create and connect to database. mode 'o' overwrites the entire database."
   ]
  },
  {
   "cell_type": "code",
   "execution_count": 4,
   "metadata": {},
   "outputs": [],
   "source": [
    "l1em = na.NeuroArch('localhost', 'l1em', mode = 'o')"
   ]
  },
  {
   "cell_type": "markdown",
   "metadata": {},
   "source": [
    "### Create a species"
   ]
  },
  {
   "cell_type": "code",
   "execution_count": 5,
   "metadata": {
    "scrolled": false
   },
   "outputs": [],
   "source": [
    "species = l1em.add_species('Drosophila Melanogaster', stage = 'larva',\n",
    "                                sex = 'female',\n",
    "                                synonyms = ['larva fruit fly'])"
   ]
  },
  {
   "cell_type": "markdown",
   "metadata": {},
   "source": [
    "### Create a datasource under the species"
   ]
  },
  {
   "cell_type": "code",
   "execution_count": 6,
   "metadata": {},
   "outputs": [
    {
     "name": "stdout",
     "output_type": "stream",
     "text": [
      "Setting default DataSource to L1EM version 1.0\n"
     ]
    }
   ],
   "source": [
    "version = '1.0'\n",
    "datasource = l1em.add_DataSource('L1EM', version = version,\n",
    "                                 url = 'https://l1em.catmaid.virtualflybrain.org/',\n",
    "                                 species = species)\n",
    "l1em.default_DataSource = datasource"
   ]
  },
  {
   "cell_type": "markdown",
   "metadata": {},
   "source": [
    "### Create subsystems, tracts, neuropils and subregions under the datasource"
   ]
  },
  {
   "cell_type": "code",
   "execution_count": 7,
   "metadata": {},
   "outputs": [],
   "source": [
    "cns = l1em.add_Subsystem('CNS', synonyms=['larva CNS', 'cns'], \n",
    "                   morphology={'type':'mesh', 'filename':'./meshes/CNS_um.json'})"
   ]
  },
  {
   "cell_type": "code",
   "execution_count": 8,
   "metadata": {},
   "outputs": [],
   "source": [
    "for k, v in neuropils.items():\n",
    "    if 'morphology' in v:\n",
    "        l1em.add_Neuropil(k,\n",
    "                           morphology = {'type': 'mesh', 'filename': v['morphology']},\n",
    "                           subsystem = v['System']\n",
    "        )\n",
    "    else:\n",
    "        l1em.add_Neuropil(k,\n",
    "                   subsystem = v['System']\n",
    "        )"
   ]
  },
  {
   "cell_type": "markdown",
   "metadata": {},
   "source": [
    "### Load Neurons\n",
    "\n",
    "The `neuron_list` dataframe contains a list of neurons of the following fields:\n",
    "\n",
    "1. `uname`: globally unique name in the database\n",
    "2. `label`: display name of the neuron. Follows `neuron_type-index` structure whenever possible. When `neuron_type` is not characterized by the FlyBrainLab developers, we follow the `catmaid_names` for the label\n",
    "3. `catmaid_names`: names of the neuron in the catmaid database\n",
    "4. `type`: neuron type\n",
    "5. `side`: left/right side of the brain. Bilateral neurons are not currently handled by the database and are assumed as left by default.\n",
    "6. `neurotransmitter`: neurotransmiter information of the neuron whenever available.\n",
    "7. `locality`: whether a neuron is `input` to or `output` from or `local` to the associated `neuropil`\n",
    "8. `neuropil`: name of neuropil that neuron is associated with\n",
    "9. `source`: publication where data is originally released\n",
    "10. `skid`: skeleton id, the identifier in catmaid database for neuron skeletons"
   ]
  },
  {
   "cell_type": "code",
   "execution_count": 9,
   "metadata": {},
   "outputs": [],
   "source": [
    "neuron_list = pd.read_csv('./neurons_published_2020_12_04.csv', index_col=0)\n",
    "swc_dir = './swc/'"
   ]
  },
  {
   "cell_type": "code",
   "execution_count": 10,
   "metadata": {},
   "outputs": [
    {
     "data": {
      "text/html": [
       "<div>\n",
       "<style scoped>\n",
       "    .dataframe tbody tr th:only-of-type {\n",
       "        vertical-align: middle;\n",
       "    }\n",
       "\n",
       "    .dataframe tbody tr th {\n",
       "        vertical-align: top;\n",
       "    }\n",
       "\n",
       "    .dataframe thead th {\n",
       "        text-align: right;\n",
       "    }\n",
       "</style>\n",
       "<table border=\"1\" class=\"dataframe\">\n",
       "  <thead>\n",
       "    <tr style=\"text-align: right;\">\n",
       "      <th></th>\n",
       "      <th>uname</th>\n",
       "      <th>label</th>\n",
       "      <th>catmaid_names</th>\n",
       "      <th>type</th>\n",
       "      <th>side</th>\n",
       "      <th>neurotransmitter</th>\n",
       "      <th>locality</th>\n",
       "      <th>neuropil</th>\n",
       "      <th>source</th>\n",
       "      <th>skid</th>\n",
       "    </tr>\n",
       "  </thead>\n",
       "  <tbody>\n",
       "    <tr>\n",
       "      <th>0</th>\n",
       "      <td>OSN-13a_7527710</td>\n",
       "      <td>OSN-13a</td>\n",
       "      <td>13a ORN left</td>\n",
       "      <td>OSN</td>\n",
       "      <td>left</td>\n",
       "      <td>acetylcholine</td>\n",
       "      <td>input</td>\n",
       "      <td>AL</td>\n",
       "      <td>Berck2016</td>\n",
       "      <td>7527710</td>\n",
       "    </tr>\n",
       "    <tr>\n",
       "      <th>1</th>\n",
       "      <td>OSN-13a_4073353</td>\n",
       "      <td>OSN-13a</td>\n",
       "      <td>13a ORN right</td>\n",
       "      <td>OSN</td>\n",
       "      <td>right</td>\n",
       "      <td>acetylcholine</td>\n",
       "      <td>input</td>\n",
       "      <td>AL</td>\n",
       "      <td>Berck2016</td>\n",
       "      <td>4073353</td>\n",
       "    </tr>\n",
       "    <tr>\n",
       "      <th>2</th>\n",
       "      <td>OSN-1a_2611805</td>\n",
       "      <td>OSN-1a</td>\n",
       "      <td>1a ORN left</td>\n",
       "      <td>OSN</td>\n",
       "      <td>left</td>\n",
       "      <td>acetylcholine</td>\n",
       "      <td>input</td>\n",
       "      <td>AL</td>\n",
       "      <td>Berck2016</td>\n",
       "      <td>2611805</td>\n",
       "    </tr>\n",
       "  </tbody>\n",
       "</table>\n",
       "</div>"
      ],
      "text/plain": [
       "             uname    label  catmaid_names type   side neurotransmitter  \\\n",
       "0  OSN-13a_7527710  OSN-13a   13a ORN left  OSN   left    acetylcholine   \n",
       "1  OSN-13a_4073353  OSN-13a  13a ORN right  OSN  right    acetylcholine   \n",
       "2   OSN-1a_2611805   OSN-1a    1a ORN left  OSN   left    acetylcholine   \n",
       "\n",
       "  locality neuropil     source     skid  \n",
       "0    input       AL  Berck2016  7527710  \n",
       "1    input       AL  Berck2016  4073353  \n",
       "2    input       AL  Berck2016  2611805  "
      ]
     },
     "execution_count": 10,
     "metadata": {},
     "output_type": "execute_result"
    }
   ],
   "source": [
    "neuron_list.head(3)"
   ]
  },
  {
   "cell_type": "code",
   "execution_count": 11,
   "metadata": {},
   "outputs": [
    {
     "name": "stderr",
     "output_type": "stream",
     "text": [
      "Loading Neurons: 100%|██████████| 1051/1051 [03:45<00:00,  4.67it/s]\n"
     ]
    }
   ],
   "source": [
    "pbar = tqdm(neuron_list.iterrows(), desc='Loading Neurons', total=neuron_list.shape[0])\n",
    "for i, row in pbar:\n",
    "    bodyID = row['skid']\n",
    "    cell_type = row['type']\n",
    "    uname = row['uname']\n",
    "    name = row['label']\n",
    "\n",
    "    info = {\n",
    "        'source': row.source,\n",
    "    }\n",
    "    \n",
    "    if row.catmaid_names != 'unknown':\n",
    "        info['catmaid_name'] = row.catmaid_names\n",
    "    \n",
    "    \n",
    "    neuropils = row['neuropil'].split(',')\n",
    "    if row.neuropil != 'unknown':\n",
    "        npl = neuropils[0].lower() if row.side.lower() == 'left' else neuropils[0].upper()\n",
    "        arborization = {\n",
    "            'type': 'neuropil',\n",
    "             'dendrites': {npl: 1},\n",
    "             'axons': {}\n",
    "        }\n",
    "    else:\n",
    "        arborization = None\n",
    "    l1em.add_Neuron(uname, # uname\n",
    "                     name, # name\n",
    "                     locality=True if row.locality == 'local' else False,\n",
    "                     synonyms=neuron_synonyms[cell_type] if cell_type in neuron_synonyms else None,\n",
    "                     neurotransmitters=row.neurotransmitter if row.neurotransmitter != 'unknown' else None,\n",
    "                     referenceId = str(bodyID), #referenceId\n",
    "                     info = info if len(info) else None,\n",
    "                     morphology = {'type': 'swc', 'filename': '{}/{}.swc'.format(swc_dir, bodyID), 'scale': 1.},\n",
    "                     arborization = arborization)\n",
    "pbar.close()"
   ]
  },
  {
   "cell_type": "code",
   "execution_count": 12,
   "metadata": {},
   "outputs": [],
   "source": [
    "# If restarting the kernel after loading neurons, start with this\n",
    "# l1em = na.NeuroArch('localhost', 'l1em', mode = 'w')\n",
    "# l1em.default_DataSource = l1em.find_objs('DataSource', name = 'l1em')[0]"
   ]
  },
  {
   "cell_type": "code",
   "execution_count": 13,
   "metadata": {},
   "outputs": [],
   "source": [
    "# find all the neurons so they can be keyed by their referenceId.\n",
    "neurons = l1em.sql_query('select from Neuron').nodes_as_objs\n",
    "# set the cache so there is no need for database access.\n",
    "for neuron in neurons:\n",
    "    l1em.set('Neuron', neuron.uname, neuron, l1em.default_DataSource)\n",
    "neuron_ref_to_obj = {int(neuron.referenceId): neuron for neuron in neurons}"
   ]
  },
  {
   "cell_type": "markdown",
   "metadata": {},
   "source": [
    "### Load synapses\n",
    "\n",
    "The `synapse_df` dataframe contains a list of neurons of the following fields:\n",
    "\n",
    "1. `N`: number of synapses\n",
    "2. `presynaptic`: `uname` of presynaptic neuron\n",
    "3. `postsynaptic`: `uname` of postsynaptic neuron\n",
    "3. `pre_skid`: `skid` of presynaptic neuron\n",
    "3. `post_skid`: `skid` of postsynaptic neuron\n",
    "3. `uname`: uname of the synapse that follows the `presynaptic--postsynaptic` structure.\n",
    "4. `x`: list of `x`-coordinates for synapse locations\n",
    "4. `y`: list of `y`-coordinates for synapse locations\n",
    "4. `z`: list of `z`-coordinates for synapse locations\n",
    "4. `r`: list of radius of synapses. If `0`, the minimum size as specified in the `Neu3D` renderer is used when the synapses are rendered"
   ]
  },
  {
   "cell_type": "code",
   "execution_count": 14,
   "metadata": {},
   "outputs": [],
   "source": [
    "synapse_df = pd.read_csv('./connectors_published.csv', index_col=0)"
   ]
  },
  {
   "cell_type": "code",
   "execution_count": 15,
   "metadata": {},
   "outputs": [
    {
     "data": {
      "text/html": [
       "<div>\n",
       "<style scoped>\n",
       "    .dataframe tbody tr th:only-of-type {\n",
       "        vertical-align: middle;\n",
       "    }\n",
       "\n",
       "    .dataframe tbody tr th {\n",
       "        vertical-align: top;\n",
       "    }\n",
       "\n",
       "    .dataframe thead th {\n",
       "        text-align: right;\n",
       "    }\n",
       "</style>\n",
       "<table border=\"1\" class=\"dataframe\">\n",
       "  <thead>\n",
       "    <tr style=\"text-align: right;\">\n",
       "      <th></th>\n",
       "      <th>N</th>\n",
       "      <th>postsynaptic</th>\n",
       "      <th>presynaptic</th>\n",
       "      <th>r</th>\n",
       "      <th>uname</th>\n",
       "      <th>x</th>\n",
       "      <th>y</th>\n",
       "      <th>z</th>\n",
       "      <th>post_skid</th>\n",
       "      <th>pre_skid</th>\n",
       "    </tr>\n",
       "  </thead>\n",
       "  <tbody>\n",
       "    <tr>\n",
       "      <th>0</th>\n",
       "      <td>14</td>\n",
       "      <td>picky-2_8877971</td>\n",
       "      <td>OSN-22c_40045</td>\n",
       "      <td>[0. 0. 0. 0. 0. 0. 0. 0. 0. 0. 0. 0. 0. 0.]</td>\n",
       "      <td>OSN-22c_40045--picky-2_8877971</td>\n",
       "      <td>[81335.2 81399.8 81399.8 81361.8 81399.8 80161...</td>\n",
       "      <td>[61841.2 61879.2 61879.2 59747.4 61879.2 59603...</td>\n",
       "      <td>[37450. 37200. 37200. 37650. 37200. 38250. 380...</td>\n",
       "      <td>8877971</td>\n",
       "      <td>40045</td>\n",
       "    </tr>\n",
       "    <tr>\n",
       "      <th>1</th>\n",
       "      <td>23</td>\n",
       "      <td>keystone_5030808</td>\n",
       "      <td>OSN-22c_40045</td>\n",
       "      <td>[0. 0. 0. 0. 0. 0. 0. 0. 0. 0. 0. 0. 0. 0. 0. ...</td>\n",
       "      <td>OSN-22c_40045--keystone_5030808</td>\n",
       "      <td>[81335.2 81206.  81221.2 81221.2 81358.  81399...</td>\n",
       "      <td>[61841.2 62320.  61427.  61427.  61921.  61879...</td>\n",
       "      <td>[37450. 37900. 37550. 37550. 37350. 37200. 372...</td>\n",
       "      <td>5030808</td>\n",
       "      <td>40045</td>\n",
       "    </tr>\n",
       "    <tr>\n",
       "      <th>2</th>\n",
       "      <td>70</td>\n",
       "      <td>PN-22c_7865652</td>\n",
       "      <td>OSN-22c_40045</td>\n",
       "      <td>[0. 0. 0. 0. 0. 0. 0. 0. 0. 0. 0. 0. 0. 0. 0. ...</td>\n",
       "      <td>OSN-22c_40045--PN-22c_7865652</td>\n",
       "      <td>[81335.2 81206.  81221.2 81358.  81399.8 81399...</td>\n",
       "      <td>[61841.2 62320.  61427.  61921.  61879.2 61879...</td>\n",
       "      <td>[37450. 37900. 37550. 37350. 37200. 37200. 372...</td>\n",
       "      <td>7865652</td>\n",
       "      <td>40045</td>\n",
       "    </tr>\n",
       "  </tbody>\n",
       "</table>\n",
       "</div>"
      ],
      "text/plain": [
       "    N      postsynaptic    presynaptic  \\\n",
       "0  14   picky-2_8877971  OSN-22c_40045   \n",
       "1  23  keystone_5030808  OSN-22c_40045   \n",
       "2  70    PN-22c_7865652  OSN-22c_40045   \n",
       "\n",
       "                                                   r  \\\n",
       "0        [0. 0. 0. 0. 0. 0. 0. 0. 0. 0. 0. 0. 0. 0.]   \n",
       "1  [0. 0. 0. 0. 0. 0. 0. 0. 0. 0. 0. 0. 0. 0. 0. ...   \n",
       "2  [0. 0. 0. 0. 0. 0. 0. 0. 0. 0. 0. 0. 0. 0. 0. ...   \n",
       "\n",
       "                             uname  \\\n",
       "0   OSN-22c_40045--picky-2_8877971   \n",
       "1  OSN-22c_40045--keystone_5030808   \n",
       "2    OSN-22c_40045--PN-22c_7865652   \n",
       "\n",
       "                                                   x  \\\n",
       "0  [81335.2 81399.8 81399.8 81361.8 81399.8 80161...   \n",
       "1  [81335.2 81206.  81221.2 81221.2 81358.  81399...   \n",
       "2  [81335.2 81206.  81221.2 81358.  81399.8 81399...   \n",
       "\n",
       "                                                   y  \\\n",
       "0  [61841.2 61879.2 61879.2 59747.4 61879.2 59603...   \n",
       "1  [61841.2 62320.  61427.  61427.  61921.  61879...   \n",
       "2  [61841.2 62320.  61427.  61921.  61879.2 61879...   \n",
       "\n",
       "                                                   z  post_skid  pre_skid  \n",
       "0  [37450. 37200. 37200. 37650. 37200. 38250. 380...    8877971     40045  \n",
       "1  [37450. 37900. 37550. 37550. 37350. 37200. 372...    5030808     40045  \n",
       "2  [37450. 37900. 37550. 37350. 37200. 37200. 372...    7865652     40045  "
      ]
     },
     "execution_count": 15,
     "metadata": {},
     "output_type": "execute_result"
    }
   ],
   "source": [
    "synapse_df.head(3)"
   ]
  },
  {
   "cell_type": "code",
   "execution_count": 16,
   "metadata": {},
   "outputs": [
    {
     "name": "stderr",
     "output_type": "stream",
     "text": [
      "Loading Synapses: 100%|██████████| 30350/30350 [02:18<00:00, 218.78it/s]\n"
     ]
    }
   ],
   "source": [
    "pbar = tqdm(synapse_df.iterrows(), total=synapse_df.shape[0], desc='Loading Synapses')\n",
    "for i, row in pbar:\n",
    "    pre_neuron = neuron_ref_to_obj[row['pre_skid']]\n",
    "    post_neuron = neuron_ref_to_obj[row['post_skid']]\n",
    "    \n",
    "    x = eval(row['x'].replace('\\n', '').replace('  ', ' ').replace(', ', ',').replace(' ', ','))\n",
    "    y = eval(row['y'].replace('\\n', '').replace('  ', ' ').replace(', ', ',').replace(' ', ','))\n",
    "    z = eval(row['z'].replace('\\n', '').replace('  ', ' ').replace(', ', ',').replace(' ', ','))\n",
    "    r = eval(row['r'].replace('\\n', '').replace('  ', ' ').replace(', ', ',').replace(' ', ','))\n",
    "    \n",
    "    content = {'type': 'swc'}\n",
    "    content['x'] = [round(i, 3) for i in np.array(x+x)/1000.] # conver from nm to um\n",
    "    content['y'] = [round(i, 3) for i in np.array(y+y)/1000.] # conver from nm to um\n",
    "    content['z'] = [round(i, 3) for i in np.array(z+z)/1000.] # conver from nm to um\n",
    "    content['r'] = [round(i, 3) for i in np.array(r+r)/1000.] # conver from nm to um\n",
    "    content['parent'] = [-1]*len(x) + [i+1 for i in range(len(x))]\n",
    "    content['identifier'] = [7]*len(x) + [8]*len(x)\n",
    "    content['sample'] = [i+1 for i in range(len(content['x']))]\n",
    "    l1em.add_Synapse(pre_neuron, post_neuron, N = row['N'],\n",
    "                      morphology = content)\n",
    "pbar.close()"
   ]
  }
 ],
 "metadata": {
  "kernelspec": {
   "display_name": "Python 3",
   "language": "python",
   "name": "python3"
  },
  "language_info": {
   "codemirror_mode": {
    "name": "ipython",
    "version": 3
   },
   "file_extension": ".py",
   "mimetype": "text/x-python",
   "name": "python",
   "nbconvert_exporter": "python",
   "pygments_lexer": "ipython3",
   "version": "3.6.12"
  }
 },
 "nbformat": 4,
 "nbformat_minor": 4
}
