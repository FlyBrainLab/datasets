{
 "cells": [
  {
   "cell_type": "markdown",
   "metadata": {},
   "source": [
    "# Loading NeuroArch Database with FlyCircuit Dataset v1.2"
   ]
  },
  {
   "cell_type": "markdown",
   "metadata": {},
   "source": [
    "This tutorial provides code to load NeuroArch database with Hemibrain Dataset v1.1. Requirement before running the notebook:\n",
    "- Installed [NeuroArch](https://github.com/fruitflybrain/neuroarch), [OrientDB Community Version](https://www.orientdb.org/download), and [pyorient](https://github.com/fruitflybrain/pyorient/). The [NeuroNLP Docker image](https://hub.docker.com/r/fruitflybrain/neuronlp) and [FlyBrainLab Docker image](https://hub.docker.com/r/fruitflybrain/fbl) all have a copy of the software requirement ready.\n",
    "- Have about 6 GB free disk space.\n",
    "- Download this [data file](https://drive.google.com/file/d/1oI1wu4FZfXbrTxmfCwSGuONQLBk4eQDg/view?usp=sharing) and uncompress the two enclosed files to the current folder.\n",
    "- Download the [neuron skeletons](https://drive.google.com/file/d/1UGRspq60xh8SgK_DSFbMYmF7ML0BFCPE/view?usp=sharing) and uncompress.\n",
    "\n",
    "A backup of the database created by this notebook can be downloaded [here](https://drive.google.com/file/d/1JXtWt-2X66Mb5I271YRUiMuQx3I2b43s/view?usp=sharing). To restore it in OrientDB, run\n",
    "```\n",
    "/path/to/orientdb/bin/console.sh \"create database plocal:../databases/flycircuit admin admin; restore database /path/to/flycircuit1.2_na_v1.0_backup.zip\"\n",
    "```"
   ]
  },
  {
   "cell_type": "code",
   "execution_count": null,
   "metadata": {},
   "outputs": [],
   "source": [
    "import os\n",
    "import urllib.request, json\n",
    "\n",
    "import numpy as np\n",
    "import pandas as pd\n",
    "from tqdm import tqdm\n",
    "\n",
    "import neuroarch.na as na\n"
   ]
  },
  {
   "cell_type": "markdown",
   "metadata": {},
   "source": [
    "## Define All Neuropils"
   ]
  },
  {
   "cell_type": "code",
   "execution_count": null,
   "metadata": {},
   "outputs": [],
   "source": [
    "neuropils = \\\n",
    "['al',\n",
    "'AL',\n",
    "'ammc',\n",
    "'AMMC',\n",
    "'cal',\n",
    "'CAL',\n",
    "'ccp',\n",
    "'CCP',\n",
    "'cmp',\n",
    "'CMP',\n",
    "'cvlp',\n",
    "'CVLP',\n",
    "'dlp',\n",
    "'DLP',\n",
    "'dmp',\n",
    "'DMP',\n",
    "'EB',\n",
    "'FB',\n",
    "'fspp',\n",
    "'FSPP',\n",
    "'idfp',\n",
    "'IDFP',\n",
    "'idlp',\n",
    "'IDLP',\n",
    "'lat',\n",
    "'LAT',\n",
    "'lh',\n",
    "'LH',\n",
    "'lob',\n",
    "'LOB',\n",
    "'lop',\n",
    "'LOP',\n",
    "'mb',\n",
    "'MB',\n",
    "'med',\n",
    "'MED',\n",
    "'nod',\n",
    "'NOD',\n",
    "'og',\n",
    "'OG',\n",
    "'optu',\n",
    "'OPTU',\n",
    "'pan',\n",
    "'PAN',\n",
    "'PB',\n",
    "'sdfp',\n",
    "'SDFP',\n",
    "'sog',\n",
    "'SOG',\n",
    "'spp',\n",
    "'SPP',\n",
    "'vlp',\n",
    "'VLP',\n",
    "'vmp',\n",
    "'VMP']"
   ]
  },
  {
   "cell_type": "markdown",
   "metadata": {},
   "source": [
    "## Loading NeuroArch Database"
   ]
  },
  {
   "cell_type": "markdown",
   "metadata": {},
   "source": [
    "### Create and connect to database. mode 'o' overwrites the entire database."
   ]
  },
  {
   "cell_type": "code",
   "execution_count": null,
   "metadata": {},
   "outputs": [],
   "source": [
    "flycircuit = na.NeuroArch('localhost', 'flycircuit', mode = 'o')"
   ]
  },
  {
   "cell_type": "markdown",
   "metadata": {},
   "source": [
    "### Create a species and datasource under the species."
   ]
  },
  {
   "cell_type": "code",
   "execution_count": null,
   "metadata": {},
   "outputs": [],
   "source": [
    "species = flycircuit.add_species('Drosophila melanogaster', stage = 'adult', sex = 'female', synonyms = ['fruit fly', 'common fruit fly', 'vinegar fly'])\n",
    "version = '1.2'\n",
    "datasource = flycircuit.add_DataSource('FlyCircuit', version = version, url = 'http://flycircuit.tw', species = species)\n",
    "flycircuit.default_DataSource = datasource"
   ]
  },
  {
   "cell_type": "markdown",
   "metadata": {},
   "source": [
    "### Load all neuropils and the mesh defining their boundaries."
   ]
  },
  {
   "cell_type": "code",
   "execution_count": null,
   "metadata": {},
   "outputs": [],
   "source": [
    "for neuropil in neuropils:\n",
    "    suffix = ''\n",
    "    if neuropil[0].isupper():\n",
    "        if neuropil.lower() in neuropils:\n",
    "            suffix = '_r'\n",
    "    else:\n",
    "        suffix = '_l'\n",
    "    url = \"https://raw.githubusercontent.com/fruitflybrain/ffbo.lib/hemibrain/mesh/flycircuit/{}{}.json\".format(neuropil.lower(), suffix)\n",
    "    with urllib.request.urlopen(url) as f:\n",
    "        data = json.loads(f.read().decode())\n",
    "    flycircuit.add_Neuropil(neuropil, morphology = {'type': 'mesh', 'faces': data['faces'], 'vertices': data['vertices']})"
   ]
  },
  {
   "cell_type": "markdown",
   "metadata": {},
   "source": [
    "### Load all neurons."
   ]
  },
  {
   "cell_type": "code",
   "execution_count": null,
   "metadata": {},
   "outputs": [],
   "source": [
    "neuron_list = pd.read_csv('FlyCircuit1.2_Neurons.csv', sep = ';')\n",
    "swc_dir = 'swc'"
   ]
  },
  {
   "cell_type": "code",
   "execution_count": null,
   "metadata": {},
   "outputs": [],
   "source": [
    "def load_swc(file_name):\n",
    "    \"\"\"\n",
    "    Load an SWC file into a DataFrame.\n",
    "    \"\"\"\n",
    "\n",
    "    df = pd.read_csv(file_name, sep = ' ', header=None, comment='#', index_col = False,\n",
    "                     names=['sample', 'identifier', 'x', 'y', 'z', 'r', 'parent'],\n",
    "                     skipinitialspace=True)\n",
    "    return df"
   ]
  },
  {
   "cell_type": "code",
   "execution_count": null,
   "metadata": {},
   "outputs": [],
   "source": [
    "uname_dict = {}\n",
    "fields = ['Author', 'Driver', \\\n",
    "          'Putative birth time', 'Lineage']\n",
    "\n",
    "\n",
    "for i, row in tqdm(neuron_list.iterrows()):\n",
    "    uname = row['name']\n",
    "    name = row['name']\n",
    "    if not os.path.exists('{}/{}.swc'.format(swc_dir, name)):\n",
    "        print('{} does not have a swc file'.format(name))\n",
    "        continue\n",
    "    dendrite = row['dendrite']\n",
    "    axon = row['axon']\n",
    "    total = row['total']\n",
    "    neuropil = row['neuropil']\n",
    "    info = {n: row[n] for n in fields if row[n] not in ['', 'unknown'] and isinstance(row[n], str)}\n",
    "    \n",
    "    \n",
    "    dendrites = {pil.split(':')[0]: int(pil.split(':')[1]) for pil in dendrite.split(',')}\n",
    "    axons = {pil.split(':')[0]: int(pil.split(':')[1]) for pil in axon.split(',')}\n",
    "    \n",
    "    if (len(dendrites) == 1 and 'unknown' in dendrites) or (len(axons) == 1 and 'unknown' in axons):\n",
    "        if neuropil != 'unclear':\n",
    "            totals = {pil.split(':')[0]: int(pil.split(':')[1]) for pil in total.split(',')}\n",
    "            if len(totals) == 1:\n",
    "                dendrites = totals\n",
    "                axons = totals\n",
    "            else:\n",
    "                if 'unknown' in dendrites:\n",
    "                    dendrites = {}\n",
    "                if 'unknown' in axons:\n",
    "                    axons = {}\n",
    "        else:\n",
    "            if 'unknown' in dendrites:\n",
    "                dendrites = {}\n",
    "            if 'unknown' in axons:\n",
    "                axons = {}\n",
    "    \n",
    "    arborization = [{'type': 'neuropil',\n",
    "                     'dendrites': dendrites,\n",
    "                     'axons': axons\n",
    "                    }]\n",
    "    if row['Putative neurotransmitter'] != 'unknown':\n",
    "        neurotransmitters = [row['Putative neurotransmitter']]\n",
    "    else:\n",
    "        neurotransmitters = None\n",
    "        \n",
    "    df = load_swc('{}/{}.swc'.format(swc_dir, name))\n",
    "    morphology = {'x': [round(i, 2) for i in (df['x']).tolist()],\n",
    "    'y': [round(i, 2) for i in (df['y']).tolist()],\n",
    "    'z': [round(i, 2) for i in (df['z']).tolist()],\n",
    "    'r': [round(i, 5) for i in (df['r']).tolist()],\n",
    "    'parent': df['parent'].tolist(),\n",
    "    'identifier': [1]+[0]*(len(df['x'])-1),\n",
    "    'sample': df['sample'].tolist(),\n",
    "    'type': 'swc'}\n",
    "    \n",
    "    flycircuit.add_Neuron(uname, name, referenceId = name, info = info if len(info) else None,\n",
    "                         morphology = morphology,\n",
    "                         arborization = arborization, neurotransmitters = neurotransmitters)"
   ]
  },
  {
   "cell_type": "markdown",
   "metadata": {},
   "source": [
    "### Load all inferred synapses"
   ]
  },
  {
   "cell_type": "code",
   "execution_count": null,
   "metadata": {},
   "outputs": [],
   "source": [
    "synapse_list = pd.read_csv('FlyCircuit1.2_Synapse.csv', sep = ' ')"
   ]
  },
  {
   "cell_type": "code",
   "execution_count": null,
   "metadata": {},
   "outputs": [],
   "source": [
    "for i, row in tqdm(synapse_list.iterrows()):\n",
    "    pre_neuron = row['pre-neuron']\n",
    "    post_neuron = row['post-neuron']\n",
    "    N = int(row['N'])\n",
    "    if len(np.where(neuron_list['name'] == pre_neuron)[0]) and len(np.where(neuron_list['name'] == post_neuron)[0]):\n",
    "        flycircuit.add_InferredSynapse(pre_neuron, post_neuron, N = N)\n",
    "    "
   ]
  }
 ],
 "metadata": {
  "kernelspec": {
   "display_name": "Python 3",
   "language": "python",
   "name": "python3"
  },
  "language_info": {
   "codemirror_mode": {
    "name": "ipython",
    "version": 3
   },
   "file_extension": ".py",
   "mimetype": "text/x-python",
   "name": "python",
   "nbconvert_exporter": "python",
   "pygments_lexer": "ipython3",
   "version": "3.8.1"
  }
 },
 "nbformat": 4,
 "nbformat_minor": 4
}
